{
 "cells": [
  {
   "cell_type": "code",
   "execution_count": 128,
   "id": "cee7459a",
   "metadata": {},
   "outputs": [
    {
     "name": "stdout",
     "output_type": "stream",
     "text": [
      "200\n",
      "316598\n"
     ]
    }
   ],
   "source": [
    "import urllib3, certifi\n",
    "from urllib3.util.retry import Retry\n",
    "\n",
    "link = \"https://www.metacritic.com/browse/movie/all/all/2024/metascore/?page=2\"\n",
    "\n",
    "# HTTP headers\n",
    "headers = {\n",
    "    \"User-Agent\": (\"Mozilla/5.0 (Windows NT 10.0; Win64; x64) \"\n",
    "                   \"AppleWebKit/537.36 (KHTML, like Gecko) \"\n",
    "                   \"Chrome/127.0.0.0 Safari/537.36\"),\n",
    "    \"Accept\": \"text/html,application/xhtml+xml,application/xml;q=0.9,*/*;q=0.8\",\n",
    "    \"Accept-Language\": \"en-US,en;q=0.9\",\n",
    "    \"Referer\": \"https://www.metacritic.com/\",\n",
    "}\n",
    "\n",
    "# Retry strategy\n",
    "retries = Retry(\n",
    "    total=3,\n",
    "    backoff_factor=0.5,\n",
    "    status_forcelist=[429, 500, 502, 503, 504],\n",
    "    allowed_methods=[\"GET\"]\n",
    ")\n",
    "\n",
    "# Python request pool\n",
    "http = urllib3.PoolManager(\n",
    "    ca_certs=certifi.where(),\n",
    "    retries=retries,\n",
    "    headers=headers,\n",
    ")\n",
    "\n",
    "# Init web request\n",
    "r = http.request(\"GET\", link)\n",
    "\n",
    "# Bytes to text\n",
    "datastring = str(r.data, 'utf-8')\n",
    "\n",
    "# Debug output\n",
    "print(r.status)\n",
    "print(len(datastring))"
   ]
  },
  {
   "cell_type": "code",
   "execution_count": 129,
   "id": "a9430db4",
   "metadata": {},
   "outputs": [
    {
     "name": "stdout",
     "output_type": "stream",
     "text": [
      "Retrieved 24 movie titles\n"
     ]
    }
   ],
   "source": [
    "import re\n",
    "\n",
    "# Search for titles\n",
    "titles = re.findall(r'<div data-title=\"(.*?)\" class=\"c-finderProductCard_title\">', datastring)\n",
    "print(f\"Retrieved {len(titles)} movie titles\")"
   ]
  },
  {
   "cell_type": "code",
   "execution_count": 130,
   "id": "fabfb8d9",
   "metadata": {},
   "outputs": [
    {
     "name": "stdout",
     "output_type": "stream",
     "text": [
      "Retrieved 24 movie release dates\n"
     ]
    }
   ],
   "source": [
    "import re\n",
    "\n",
    "# Search for release dates\n",
    "release_dates = re.findall(r'<span class=\"u-text-uppercase\">\\s*(.*?)\\s*</span>', datastring)\n",
    "print(f\"Retrieved {len(release_dates)} movie release dates\")"
   ]
  },
  {
   "cell_type": "code",
   "execution_count": 131,
   "id": "d105110a",
   "metadata": {},
   "outputs": [
    {
     "name": "stdout",
     "output_type": "stream",
     "text": [
      "Retrieved 24 movie meta scores\n"
     ]
    }
   ],
   "source": [
    "import re\n",
    "\n",
    "# Search for release dates\n",
    "meta_score = re.findall(r'<span data-v-e408cafe>(.*?)</span>', datastring)\n",
    "print(f\"Retrieved {len(meta_score)} movie meta scores\")"
   ]
  },
  {
   "cell_type": "code",
   "execution_count": 132,
   "id": "cc3df6d9",
   "metadata": {},
   "outputs": [
    {
     "name": "stdout",
     "output_type": "stream",
     "text": [
      "Retrieved 24 movie descriptions\n"
     ]
    }
   ],
   "source": [
    "import re\n",
    "\n",
    "# Search for descriptions\n",
    "description = re.findall(r'<div class=\"c-finderProductCard_description\"><span>(.*?)\\s*<\\/span>', datastring)\n",
    "print(f\"Retrieved {len(description)} movie descriptions\")"
   ]
  },
  {
   "cell_type": "code",
   "execution_count": 133,
   "id": "126fb546",
   "metadata": {},
   "outputs": [
    {
     "name": "stdout",
     "output_type": "stream",
     "text": [
      "Title                                                 Description                                                                                                                                                                                                                                                                                                                                                                                                                                                                                                                                                                                                                                                                                                          Release Date      Meta Score\n",
      "----------------------------------------------------  -------------------------------------------------------------------------------------------------------------------------------------------------------------------------------------------------------------------------------------------------------------------------------------------------------------------------------------------------------------------------------------------------------------------------------------------------------------------------------------------------------------------------------------------------------------------------------------------------------------------------------------------------------------------------------------------------------------------  --------------  ------------\n",
      "Daughters                                             Four young girls prepare for a special Daddy Daughter Dance with their incarcerated fathers, as part of a unique fatherhood program in a Washington, D.C., jail.                                                                                                                                                                                                                                                                                                                                                                                                                                                                                                                                                     Aug 9, 2024               85\n",
      "Vermiglio                                             The lush and breathtaking beauty of the Alps, filmed with painterly grace under natural light from frigid winter to redemptive spring, provides the physical and emotional backdrop for Vermiglio, Maura Delpero’s visionary film, which won the Silver Lion at the 2024 Venice Film Festival. This singular portrait of a sprawling family, set in the small, mountainous village of Vermiglio during the waning days of WWII, follows a series of dramatic, consequential events after the arrival of a taciturn Sicilian soldier (Giuseppe De Domenico), who hides out in town after deserting the army. While there, the soldier develops a romance with the family's eldest daughter, Lucia (Martina Scrinzi).  Dec 25, 2024              85\n",
      "The Seed of the Sacred Fig                            Investigating judge Iman grapples with paranoia amid political unrest in Tehran. When his gun vanishes, he suspects his wife and daughters, imposing draconian measures that strain family ties as societal rules crumble.                                                                                                                                                                                                                                                                                                                                                                                                                                                                                           Nov 27, 2024              84\n",
      "Chicken for Linda!                                    Paulette feels guilty after unjustly punishing her daughter Linda and would do anything to make it up to her. Linda immediately asks for a meal of chicken with peppers, which reminds her of the dish her father used to make. But with a general strike closing stores all across town and pushing people into the streets, this innocent request quickly leads to an outrageous series of events that spirals out of control, as Paulette does everything she can to keep her promise and find a chicken for Linda.                                                                                                                                                                                               Apr 5, 2024               84\n",
      "Youth (Hard Times)                                    Individual and collective stories unfold in Zhili's textile workshops, becoming more dramatic as the seasons go by. From atop a passageway, workers watch their boss beat up a supplier. In another workshop, the boss has taken off with all the money. The workers are alone, robbed of the fruits of their labor. After bitter negotiations, the workers return home to celebrate the New Year. [Locarno]                                                                                                                                                                                                                                                                                                         Nov 1, 2024               84\n",
      "His Three Daughters                                   Three estranged sisters (Carrie Coon, Elizabeth Olsen, and Natasha Lyonne) converge in a New York apartment to care for their ailing father and try to mend their own broken relationship with one another.                                                                                                                                                                                                                                                                                                                                                                                                                                                                                                          Sep 6, 2024               83\n",
      "Between the Temples                                   A cantor (Jason Schwartzman) in a crisis of faith finds his world turned upside down when his grade school music teacher (Carol Kane) re-enters his life as his new adult Bat Mitzvah student.                                                                                                                                                                                                                                                                                                                                                                                                                                                                                                                       Aug 23, 2024              83\n",
      "Terrestrial Verses                                    In Tehran, a new father seeks to register the name (insufficiently Islamic, he is told) of his newborn son; a 20-something rideshare driver caught on camera without a hijab attempts to retrieve her impounded car; a man with poem tattoos applies for a driver’s license; an elderly woman pleads with the police for the return of her beloved dog.                                                                                                                                                                                                                                                                                                                                                              Apr 26, 2024              83\n",
      "Sing Sing                                             Divine G (Colman Domingo), imprisoned at Sing Sing for a crime he didn’t commit, finds purpose by acting in a theatre group alongside other incarcerated men, including a wary newcomer (Clarence Maclin), in this stirring true story of resilience, humanity, and the transformative power of art, starring an unforgettable ensemble cast of formerly incarcerated actors.                                                                                                                                                                                                                                                                                                                                        Jul 12, 2024              83\n",
      "Crossing                                              Lia, a retired teacher from Georgia, learns from her young neighbor, Achi, that her long-lost transgender niece, Tekla, has crossed the border into Turkey. In search of Tekla, Lia travels to Istanbul with the unpredictable Achi, where they explore the hidden depths of the city.                                                                                                                                                                                                                                                                                                                                                                                                                               Jul 19, 2024              83\n",
      "Evil Does Not Exist                                   In the rural alpine hamlet of Mizubiki, not far from Tokyo, Takumi and his daughter, Hana, lead a modest life gathering water, wood, and wild wasabi for the local udon restaurant. Increasingly, the townsfolk become aware of a talent agency’s plan to build an opulent glamping site nearby, offering city residents a comfortable “escape” to the snowy wilderness. When two company representatives arrive and ask for local guidance, Takumi becomes conflicted in his involvement, as it becomes clear that the project will have a pernicious impact on the community.                                                                                                                                      May 3, 2024               83\n",
      "Janet Planet                                          In rural Western Massachusetts, 11-year-old Lacy spends the summer of 1991 at home, enthralled by her own imagination and the attention of her mother, Janet. As the months pass, three visitors enter their orbit, all captivated by Janet and her spellbinding nature. In her solitary moments, Lacy inhabits an inner world so extraordinarily detailed that it begins to seep into the outside world.                                                                                                                                                                                                                                                                                                            Jun 21, 2024              83\n",
      "Luther: Never Too Much                                Luther Vandross started his career supporting David Bowie, Roberta Flack, Bette Midler, and more. His undeniable talent earned platinum records and accolades, but he struggled to break out beyond the R&amp;B charts. Intensely driven, he overcame personal and professional challenges to secure his place amongst the greatest vocalists in history.                                                                                                                                                                                                                                                                                                                                                            Nov 1, 2024               83\n",
      "Made in England: The Films of Powell and Pressburger  Features rare archival material from the personal collections of Powell, Pressburger and Scorsese.                                                                                                                                                                                                                                                                                                                                                                                                                                                                                                                                                                                                                   Jul 12, 2024              83\n",
      "In the Summers                                        Siblings Violeta and Eva live in California with their mother, but every summer they travel to Las Cruces, New Mexico, to spend time with their loving but unpredictable father, Vicente (René “Residente” Pérez Joglar). Over the course of four formative summers that span adolescence to early adulthood, Violeta and Eva learn to appreciate their father as a person, his flaws and limitations inseparable from his passion and tenderness. Lovers come and go, the backyard goes to seed, but the idea of home remains knotty and elusive.                                                                                                                                                                   Sep 20, 2024              83\n",
      "Inshallah a Boy                                       After the sudden death of her husband, Nawal is struggling to cope with the upheaval in her life. However, her pain is soon compounded by the possibility of losing her home to her brother-in-law. Desperate to keep her home and provide a stable life for her daughter, Nawal resorts to deception by faking a pregnancy. But as time passes, the lie becomes harder to sustain and Nawal faces a difficult choice. With only three weeks to find a solution, Nawal embarks on a journey that challenges her fears, beliefs, and morality, as she fights to secure her rightful inheritance and protect her daughter’s future.                                                                                    Jan 12, 2024              83\n",
      "Hundreds of Beavers                                   A drunken applejack salesman is thrust into the frigid wilderness. Can he go from Zero to Hero, become North America's greatest fur trapper, and defeat hundreds of beavers?                                                                                                                                                                                                                                                                                                                                                                                                                                                                                                                                         Jan 26, 2024              82\n",
      "Hit Man                                               Inspired by an unbelievable true story, a strait-laced professor discovers his hidden talent as a fake hit man. He meets his match in a client who steals his heart and ignites a powder keg of deception, delight, and mixed-up identities.                                                                                                                                                                                                                                                                                                                                                                                                                                                                         May 24, 2024              82\n",
      "Ghostlight                                            When melancholic construction worker Dan finds himself drifting from his wife and daughter, he discovers community and purpose in a local theater’s production of Romeo and Juliet. As the drama onstage starts to mirror his own life, he and his family are forced to confront a personal loss.                                                                                                                                                                                                                                                                                                                                                                                                                    Jun 14, 2024              82\n",
      "The Girl with the Needle                              Karoline, a young factory worker, finds herself abandoned and pregnant while striving to climb out of poverty in post World War I Copenhagen. Amidst her struggles, she meets Dagmar, a charismatic woman running a hidden adoption agency within a candy store, helping poor mothers in finding foster homes for their unwanted children. To escape poverty, Karoline takes on the role of a wet-nurse. A strong connection is formed between the two women, yet Karoline’s world shatters as she stumbles upon the dreadful revelation of the nightmarish fate she unknowingly embraces.                                                                                                                           Dec 6, 2024               82\n",
      "Nocturnes                                             In the dense forests of the Eastern Himalayas, moths are whispering something to us. In the dark of night, two curious observers shine a light on this secret universe. Together, they are on an expedition to decode these nocturnal creatures in a remote ecological “hot spot” on the border of India and Bhutan.                                                                                                                                                                                                                                                                                                                                                                                                 Oct 18, 2024              82\n",
      "Black Box Diaries                                     Journalist Shiori Ito embarks on a courageous investigation of her own sexual assault in an improbable attempt to prosecute her high-profile offender. Her quest becomes a landmark case in Japan, exposing the country’s outdated judicial and societal systems.                                                                                                                                                                                                                                                                                                                                                                                                                                                    Oct 25, 2024              82\n",
      "Small Things Like These                               It is 1985 in the run-up to Christmas in a small town in County Wexford, Ireland. Bill Furlong (Cillian Murphy) toils as a coal merchant to support himself, his wife and his five daughters. Early one morning while out delivering coal at the local convent, he makes a discovery that forces him to confront his past and the complicit silence of a town controlled by the Catholic Church. Based on the novel by Claire Keegan.                                                                                                                                                                                                                                                                                Nov 8, 2024               82\n",
      "Challengers                                           Tennis prodigy turned coach Tashi (Zendaya) has taken her husband, Art (Mike Faist), and transformed him into a world-famous grand slam champion. To jolt him out of his recent losing streak, she makes him play a “Challenger” event — close to the lowest level of pro tournament — where he finds himself standing across the net from his former best friend and Tashi’s former boyfriend (Josh O’Connor).                                                                                                                                                                                                                                                                                                      Apr 26, 2024              82\n"
     ]
    }
   ],
   "source": [
    "import pandas as pd\n",
    "import tabulate as tab\n",
    "\n",
    "# Create a DataFrame\n",
    "df = pd.DataFrame({\n",
    "    \"Title\": titles,\n",
    "    \"Description\": description,\n",
    "    \"Release Date\": release_dates,\n",
    "    \"Meta Score\": meta_score\n",
    "})\n",
    "\n",
    "# Show the DataFrame\n",
    "print(tab.tabulate(df, showindex=False, headers=df.columns))"
   ]
  }
 ],
 "metadata": {
  "kernelspec": {
   "display_name": "Python 3",
   "language": "python",
   "name": "python3"
  },
  "language_info": {
   "codemirror_mode": {
    "name": "ipython",
    "version": 3
   },
   "file_extension": ".py",
   "mimetype": "text/x-python",
   "name": "python",
   "nbconvert_exporter": "python",
   "pygments_lexer": "ipython3",
   "version": "3.13.7"
  }
 },
 "nbformat": 4,
 "nbformat_minor": 5
}
